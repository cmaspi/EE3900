{
 "cells": [
  {
   "cell_type": "code",
   "execution_count": 3,
   "metadata": {},
   "outputs": [],
   "source": [
    "import soundfile as sf\n",
    "from scipy import signal\n",
    "\n",
    "input_signal,fs=sf.read('Sound_Noise.wav')\n",
    "\n",
    "sampl_freq=fs\n",
    "\n",
    "order=4\n",
    "\n",
    "cutoff_freq=4000.0\n",
    "\n",
    "Wn=2*cutoff_freq/sampl_freq\n",
    "\n",
    "b,a =signal.butter(order,Wn,'low')\n",
    "\n",
    "output_signal=signal.filtfilt(b,a,input_signal)\n",
    "\n",
    "sf.write('Sound_With_ReducedNoise.wav',output_signal,fs)"
   ]
  },
  {
   "cell_type": "code",
   "execution_count": null,
   "metadata": {},
   "outputs": [],
   "source": []
  }
 ],
 "metadata": {
  "kernelspec": {
   "display_name": "Python 3",
   "language": "python",
   "name": "python3"
  },
  "language_info": {
   "codemirror_mode": {
    "name": "ipython",
    "version": 3
   },
   "file_extension": ".py",
   "mimetype": "text/x-python",
   "name": "python",
   "nbconvert_exporter": "python",
   "pygments_lexer": "ipython3",
   "version": "3.8.10"
  }
 },
 "nbformat": 4,
 "nbformat_minor": 4
}
